{
 "cells": [
  {
   "cell_type": "markdown",
   "metadata": {},
   "source": [
    "# #develop a progrm for bcking up a given folder (Folder in a current working directory) into ZIP file by using relevant modules and suitable methods..\n"
   ]
  },
  {
   "cell_type": "code",
   "execution_count": 1,
   "metadata": {},
   "outputs": [],
   "source": [
    "# #develop a progrm for bcking up a given folder (Folder in a current working directory) into ZIP file by using relevant modules and suitable methods..\n",
    "\n",
    "\n"
   ]
  },
  {
   "cell_type": "code",
   "execution_count": 2,
   "metadata": {},
   "outputs": [
    {
     "name": "stdout",
     "output_type": "stream",
     "text": [
      "enter the folder name for backup:D:\\pooja 158\n",
      "zipping: D:\\pooja 158\\Untitled.ipynb\n",
      "zipping: D:\\pooja 158\\Untitled6.ipynb\n",
      "zipping: D:\\pooja 158\\mean variance and std division....ipynb\n",
      "zipping: D:\\pooja 158\\output.txt\n",
      "zipping: D:\\pooja 158\\Untitled1.ipynb\n",
      "zipping: D:\\pooja 158\\Untitled7.ipynb\n",
      "zipping: D:\\pooja 158\\Untitled2.ipynb\n",
      "zipping: D:\\pooja 158\\4.frequency of multi digit number.ipynb\n",
      "zipping: D:\\pooja 158\\frequency of words.ipynb\n",
      "zipping: D:\\pooja 158\\quiz.ipynb\n",
      "zipping: D:\\pooja 158\\mean variance and std division.ipynb\n",
      "zipping: D:\\pooja 158\\Untitled8.ipynb\n",
      "zipping: D:\\pooja 158\\Untitled9.ipynb\n",
      "zipping: D:\\pooja 158\\Untitled10.ipynb\n",
      "zipping: D:\\pooja 158\\Untitled11.ipynb\n",
      "zipping: D:\\pooja 158\\Untitled12.ipynb\n",
      "zipping: D:\\pooja 158\\Untitled13.ipynb\n",
      "zipping: D:\\pooja 158\\Untitled14.ipynb\n",
      "zipping: D:\\pooja 158\\Untitled15.ipynb\n",
      "zipping: D:\\pooja 158\\Untitled3.ipynb\n",
      "zipping: D:\\pooja 158\\Untitled16.ipynb\n",
      "zipping: D:\\pooja 158\\Untitled4.ipynb\n",
      "zipping: D:\\pooja 158\\lab program 7.ipynb\n",
      "zipping: D:\\pooja 158\\all lab programs.zip\n",
      "zipping: D:\\pooja 158\\Untitled5.ipynb\n",
      "zipping: D:\\pooja 158\\untitled.txt\n",
      "zipping: D:\\pooja 158\\input.txt\n",
      "\n",
      "folder Names: D:\\pooja 158\n",
      "\n",
      "subfolders: ['.ipynb_checkpoints']\n",
      "\n",
      "filename: ['Untitled.ipynb', 'Untitled6.ipynb', 'mean variance and std division....ipynb', 'output.txt', 'Untitled1.ipynb', 'Untitled7.ipynb', 'Untitled2.ipynb', '4.frequency of multi digit number.ipynb', 'frequency of words.ipynb', 'quiz.ipynb', 'mean variance and std division.ipynb', 'Untitled8.ipynb', 'Untitled9.ipynb', 'Untitled10.ipynb', 'Untitled11.ipynb', 'Untitled12.ipynb', 'Untitled13.ipynb', 'Untitled14.ipynb', 'Untitled15.ipynb', 'Untitled3.ipynb', 'Untitled16.ipynb', 'Untitled4.ipynb', 'lab program 7.ipynb', 'all lab programs.zip', 'Untitled5.ipynb', 'untitled.txt', 'input.txt']\n",
      "\n",
      "Backup successful: 'D:\\pooja 158'has been backed up to 'D:\\pooja 158.zip'\n"
     ]
    },
    {
     "ename": "ValueError",
     "evalue": "Attempt to write to ZIP archive that was already closed",
     "output_type": "error",
     "traceback": [
      "\u001b[1;31m---------------------------------------------------------------------------\u001b[0m",
      "\u001b[1;31mValueError\u001b[0m                                Traceback (most recent call last)",
      "\u001b[1;32m<ipython-input-2-ac8f87176d5a>\u001b[0m in \u001b[0;36m<module>\u001b[1;34m()\u001b[0m\n\u001b[0;32m     36\u001b[0m \u001b[1;33m\u001b[0m\u001b[0m\n\u001b[0;32m     37\u001b[0m \u001b[1;31m#call the function to create the backup\u001b[0m\u001b[1;33m\u001b[0m\u001b[1;33m\u001b[0m\u001b[0m\n\u001b[1;32m---> 38\u001b[1;33m \u001b[0mbackup_folder_to_zip\u001b[0m\u001b[1;33m(\u001b[0m\u001b[0mfolder_to_backup\u001b[0m\u001b[1;33m,\u001b[0m\u001b[0mzip_filename\u001b[0m\u001b[1;33m)\u001b[0m\u001b[1;33m\u001b[0m\u001b[0m\n\u001b[0m\u001b[0;32m     39\u001b[0m \u001b[1;33m\u001b[0m\u001b[0m\n\u001b[0;32m     40\u001b[0m \u001b[1;33m\u001b[0m\u001b[0m\n",
      "\u001b[1;32m<ipython-input-2-ac8f87176d5a>\u001b[0m in \u001b[0;36mbackup_folder_to_zip\u001b[1;34m(source_folder, zip_filename)\u001b[0m\n\u001b[0;32m     14\u001b[0m         \u001b[1;32mfor\u001b[0m \u001b[0mfilename\u001b[0m \u001b[1;32min\u001b[0m \u001b[0mfilenames\u001b[0m\u001b[1;33m:\u001b[0m\u001b[1;33m\u001b[0m\u001b[0m\n\u001b[0;32m     15\u001b[0m             \u001b[0mfile_path\u001b[0m\u001b[1;33m=\u001b[0m\u001b[0mos\u001b[0m\u001b[1;33m.\u001b[0m\u001b[0mpath\u001b[0m\u001b[1;33m.\u001b[0m\u001b[0mjoin\u001b[0m\u001b[1;33m(\u001b[0m\u001b[0mfoldername\u001b[0m\u001b[1;33m,\u001b[0m\u001b[0mfilename\u001b[0m\u001b[1;33m)\u001b[0m\u001b[1;33m\u001b[0m\u001b[0m\n\u001b[1;32m---> 16\u001b[1;33m             \u001b[0mzipf\u001b[0m\u001b[1;33m.\u001b[0m\u001b[0mwrite\u001b[0m\u001b[1;33m(\u001b[0m\u001b[0mfile_path\u001b[0m\u001b[1;33m,\u001b[0m\u001b[0mos\u001b[0m\u001b[1;33m.\u001b[0m\u001b[0mpath\u001b[0m\u001b[1;33m.\u001b[0m\u001b[0mrelpath\u001b[0m\u001b[1;33m(\u001b[0m\u001b[0mfile_path\u001b[0m\u001b[1;33m,\u001b[0m\u001b[0msource_folder\u001b[0m\u001b[1;33m)\u001b[0m\u001b[1;33m)\u001b[0m\u001b[1;33m\u001b[0m\u001b[0m\n\u001b[0m\u001b[0;32m     17\u001b[0m             \u001b[0mprint\u001b[0m\u001b[1;33m(\u001b[0m\u001b[1;34m\"zipping:\"\u001b[0m\u001b[1;33m,\u001b[0m\u001b[0mfile_path\u001b[0m\u001b[1;33m)\u001b[0m\u001b[1;33m\u001b[0m\u001b[0m\n\u001b[0;32m     18\u001b[0m \u001b[1;33m\u001b[0m\u001b[0m\n",
      "\u001b[1;32mC:\\ProgramData\\Anaconda3\\lib\\zipfile.py\u001b[0m in \u001b[0;36mwrite\u001b[1;34m(self, filename, arcname, compress_type)\u001b[0m\n\u001b[0;32m   1586\u001b[0m         \u001b[1;32mif\u001b[0m \u001b[1;32mnot\u001b[0m \u001b[0mself\u001b[0m\u001b[1;33m.\u001b[0m\u001b[0mfp\u001b[0m\u001b[1;33m:\u001b[0m\u001b[1;33m\u001b[0m\u001b[0m\n\u001b[0;32m   1587\u001b[0m             raise ValueError(\n\u001b[1;32m-> 1588\u001b[1;33m                 \"Attempt to write to ZIP archive that was already closed\")\n\u001b[0m\u001b[0;32m   1589\u001b[0m         \u001b[1;32mif\u001b[0m \u001b[0mself\u001b[0m\u001b[1;33m.\u001b[0m\u001b[0m_writing\u001b[0m\u001b[1;33m:\u001b[0m\u001b[1;33m\u001b[0m\u001b[0m\n\u001b[0;32m   1590\u001b[0m             raise ValueError(\n",
      "\u001b[1;31mValueError\u001b[0m: Attempt to write to ZIP archive that was already closed"
     ]
    }
   ],
   "source": [
    "import os \n",
    "import zipfile\n",
    "\n",
    "def backup_folder_to_zip(source_folder,zip_filename):\n",
    "    #check if the source folder exists\n",
    "    if not os.path.exists(source_folder):\n",
    "        return f\"Error:source folder '{source_folder}'does not exists\"   \n",
    "    \n",
    "    #crete  zip file in the current working directory\n",
    "    zipf=zipfile.ZipFile(zip_filename,'w')\n",
    "    \n",
    "    # work through the source folder nd its contentto a ZIP file \n",
    "    for foldername,subfolders,filenames in os.walk(source_folder):\n",
    "        for filename in filenames:\n",
    "            file_path=os.path.join(foldername,filename)\n",
    "            zipf.write(file_path,os.path.relpath(file_path,source_folder))\n",
    "            print(\"zipping:\",file_path)\n",
    "            \n",
    "        #close the Zip file\n",
    "        zipf.close()\n",
    "        print()\n",
    "        print(\"folder Names:\",foldername)\n",
    "        print()\n",
    "        print(\"subfolders:\",subfolders)\n",
    "        print()\n",
    "        print(\"filename:\",filenames)\n",
    "        print()\n",
    "        print(f\"Backup successful: '{source_folder}'has been backed up to '{zip_filename}'\")\n",
    "        \n",
    "#get the folder name from the user\n",
    "\n",
    "folder_to_backup=input(\"enter the folder name for backup:\")\n",
    "\n",
    "#generate a ziup file name based on the folder name\n",
    "zip_filename=f\"{folder_to_backup}.zip\"\n",
    "              \n",
    "#call the function to create the backup\n",
    "backup_folder_to_zip(folder_to_backup,zip_filename)\n",
    "              \n",
    "              \n",
    "              "
   ]
  },
  {
   "cell_type": "code",
   "execution_count": null,
   "metadata": {},
   "outputs": [],
   "source": []
  },
  {
   "cell_type": "code",
   "execution_count": null,
   "metadata": {},
   "outputs": [],
   "source": []
  }
 ],
 "metadata": {
  "kernelspec": {
   "display_name": "Python 3",
   "language": "python",
   "name": "python3"
  },
  "language_info": {
   "codemirror_mode": {
    "name": "ipython",
    "version": 3
   },
   "file_extension": ".py",
   "mimetype": "text/x-python",
   "name": "python",
   "nbconvert_exporter": "python",
   "pygments_lexer": "ipython3",
   "version": "3.6.5"
  }
 },
 "nbformat": 4,
 "nbformat_minor": 2
}
